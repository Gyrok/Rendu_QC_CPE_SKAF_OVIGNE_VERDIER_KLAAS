{
 "cells": [
  {
   "cell_type": "markdown",
   "metadata": {},
   "source": [
    "# Tutoriel d'introduction à Tensorflow Quantum\n",
    "#### Auteurs: Ovigne Adrien, Verdier Fabien, Skaf Paul et Klaas Guillaume\n",
    "\n",
    "## Sommaire : \n",
    "\n",
    "0. Introduction\n",
    "1. Présentation de Cirq\n",
    "2. Introduction de Tensorflow Quantum et exemple d'application\n",
    "3. Conclusion\n",
    "4. Bibliographie et Sources\n",
    "\n",
    "## 0. Introduction:\n",
    "\n",
    "Ce notebook vise à introduire les principales fonctionnalités de Tensorflow Quantum (TFQ par la suite). Ainsi nous allons commencer par Cirq, la librairie utilisée par TFQ pour produire des réseaux de neurones quantiques (QNN par la suite). Puis nous expliquerons les bases de TFQ.\n",
    "\n",
    "Maintenant que le but de ce tutoriel a été établi, passons à une brève introduction des librairies et framework utilisées, Cirq est une librairie écrite par Google et actuellement (V0.8) en Alpha. TFQ est un framework créé par Google pour faire de l'apprentissage machine quantique (QML par la suite) inspiré par Tensorflow, le framework d'apprentissage machine créé par Google.\n",
    "\n",
    "\n",
    "## 1. Présentation de Cirq:\n",
    "\n",
    "[Cirq](https://cirq.readthedocs.io/en/stable/) est une librairie créée par Google pour l'informatique quantique, elle permet de simuler l'exécution de circuits quantiques ou de les exécuter sur des processeurs quantiques.\n",
    "\n",
    " La première étape est la création de qubits, Cirq possède trois méthodes pour cela: \n",
    "\n",
    " * `cirq.NamedQubit` \n",
    "  \n",
    " * `cirq.LineQubit`\n",
    "  \n",
    " * `cirq.GridQubit`\n",
    "   \n",
    " Leur usage est décrit ci-dessous:\n",
    " "
   ]
  },
  {
   "cell_type": "code",
   "execution_count": null,
   "metadata": {},
   "outputs": [],
   "source": [
    "import cirq\n",
    "\n",
    "\n",
    "# Pour créer des Qubits nommés, ici l'objet q0 est nommé qubit 0.\n",
    "q0 = cirq.NamedQubit('qubit 0')\n",
    "q1 = cirq.NamedQubit('qubit 1')\n",
    "\n",
    "# Pour créer des Qubits labelisés par leur index dans une file: ici le qubit q3 est généré avec le label '3'\n",
    "q3 = cirq.LineQubit(3)\n",
    "\n",
    "\"\"\"\n",
    "On peut également utiliser cirq.LineQubit pour créer plusieurs Qubits à la fois, dans ce cas,\n",
    "q0 porte le label 0, q1 le label 1 et q2 le label 2, \n",
    "\"\"\"\n",
    "q0, q1, q2 = cirq.LineQubit.range(3)\n",
    "\n",
    "# cirq.GridQubit permet de créer des Qubits sur 2 axes\n",
    "q4_5 = cirq.GridQubit(4,5)\n",
    "\"\"\"\n",
    "Cette méthode peut également créer une grille de Qubits \n",
    "la ligne ci-dessous va créer une grille de 16 Qubits indexés de (0,0) à (3,3)\n",
    "\"\"\"\n",
    "qubits = cirq.GridQubit.square(4)\n"
   ]
  },
  {
   "cell_type": "markdown",
   "metadata": {},
   "source": [
    "Maintenant nous pouvons voir comment créer et manipuler des portes logiques quantiques avec Cirq. La liste des portes ainsi que leur syntaxe est disponible [ici](https://cirq.readthedocs.io/en/stable/gates.html#Common-gates).\n",
    "* [Portes à 1 qubit en entrée](https://cirq.readthedocs.io/en/stable/gates.html#Single-qubit-gates)\n",
    "* [Créer sa propre porte](https://cirq.readthedocs.io/en/stable/gates.html#Advanced:-Creating-your-own-gates)\n",
    "\n",
    "L'utilisation des portes est décrite ci-dessous."
   ]
  },
  {
   "cell_type": "code",
   "execution_count": 15,
   "metadata": {},
   "outputs": [
    {
     "output_type": "stream",
     "name": "stdout",
     "text": "X(q0)\n[[0.+0.j 1.+0.j]\n [1.+0.j 0.+0.j]]\n[[0.5+0.5j 0.5-0.5j]\n [0.5-0.5j 0.5+0.5j]]\ncirq.MeasurementGate(1, 'q0', ())(q0)\n"
    }
   ],
   "source": [
    "import cirq\n",
    "import matplotlib\n",
    "# On peut créer une porte de la manière suivante\n",
    "CNOT = cirq.CNOT\n",
    "\n",
    "# Par elle même une porte ne fait rien, il faut lui fournir un Qubit pour obtenir un Qubit en sortie:\n",
    "q0 = cirq.NamedQubit('q0')\n",
    "QubitSortiePorte = cirq.X(q0)\n",
    "print(QubitSortiePorte)\n",
    "\n",
    "# On peut également obtenir leur matrice unitaire\n",
    "Xgate = cirq.X\n",
    "print(cirq.unitary(Xgate)) # Syntaxe: cirq.unitary(porte)\n",
    "\n",
    "# Et même appliquer des opérateurs\n",
    "XgateRoot = Xgate**0.5\n",
    "print(cirq.unitary(XgateRoot))\n",
    "\n",
    "# La porte de mesure est cirq.MeasurementGate( nb qubit, labels des qubits mesurés , ())(qubits mesurés)\n",
    "print(cirq.MeasurementGate(1, 'q0',())(q0))"
   ]
  },
  {
   "cell_type": "markdown",
   "metadata": {},
   "source": [
    "Avec Cirq nous pouvons également créer des circuits, pour initialiser un circuit vide on utilise la ligne suivante: `circuit = cirq.Circuit()`\n",
    "ensuite nous pouvons ajouter des portes comme illustré ci-dessous:"
   ]
  },
  {
   "cell_type": "code",
   "execution_count": 3,
   "metadata": {},
   "outputs": [
    {
     "output_type": "stream",
     "name": "stdout",
     "text": "Le circuit avec les portes\n(0, 0): ───@───@───\n           │   │\n(0, 1): ───X───┼───\n               │\n(0, 2): ───────X───\n"
    }
   ],
   "source": [
    "import cirq\n",
    "\n",
    "# on commence par créer les qubits\n",
    "q0 = cirq.GridQubit(0, 0)\n",
    "q1 = cirq.GridQubit(0, 1)\n",
    "q2 = cirq.GridQubit(0, 2)\n",
    "\n",
    "# On créé des portes en utilisant les qubits\n",
    "CNOT01 = cirq.CNOT(q0, q1)\n",
    "CNOT02 = cirq.CNOT(q0, q2)\n",
    "\n",
    "# On initialise le circuit\n",
    "circuit = cirq.Circuit()\n",
    "\n",
    "# On ajoute les portes\n",
    "circuit.append(CNOT01)\n",
    "circuit.append(CNOT02)\n",
    "\n",
    "print('Le circuit avec les portes')\n",
    "print(circuit)\n",
    "\n"
   ]
  },
  {
   "cell_type": "markdown",
   "metadata": {},
   "source": [
    "Cirq possède également les \"Devices\" ou appareil, qui sont des circuits préfabriqués ces appareils permettent égalemant de considérerd des limitations matérielles pour les exécutions sur processeur quantique et ainsi obtenir des résultats plus fidèles.\n",
    "\n",
    "Enfin les différentes méthodes d'exécution, jusqu'ici nous avons vu comment créer un circuit, il existe deux méthodes pour l'exécuter, ces deux méthodes sont accessibles via `cirq.Simulator()` ce simulateur est intégré a Cirq et peut gérer jusqu'à 20 Qubits en même temps. Il peut être utilisé de deux manière différentes `simulate()` et `run()`. \n",
    "* `simulate()` permet de se familiariser avec cirq et d'obtenir directement la fonction d'onde\n",
    "* `run()` permet de simuler la sortie d'un vrai processeur quantique et oblige donc à faire un échantillonnage.\n",
    "\n",
    "Pour obtenir un vecteur de sortie:\n",
    "`sortie = cirq.Simulator().simulate(circuit).final_state`\n",
    "\n",
    "\n",
    "Ceci conclut l'introduction de Cirq, par manque de temps je n'ai pas écrit la partie sur les sommes de Pauli ou les autres fonctionnalités de Cirq, ainsi pour plus d'informations je vous conseille le [site officiel](https://cirq.readthedocs.io/en/stable/tutorial.html) (en anglais) de cirq.\n",
    "\n",
    "\n",
    "## 2. Introduction de Tensorflow Quantum et exemple d'application\n",
    "\n",
    "TFQ est un framework créé par Google pour faciliter le QML, il permet de travailler avec des données quantiques, ainsi que la construction de réseaux de neurones quantiques et hybrides classiques-quantiques.  \n",
    "\n",
    "\n",
    "TFQ utilise des circuits de Cirq et des sommes de Pauli pour simuler les procédés quantiques, et utilise ces composants pour mettre en place des QNN.\n",
    "\n",
    "TFQ va utiliser des tenseurs généré par la fonction `tfq.convert_to_tensor` qui va transformer des circuits Cirq ( ou des sommes de Pauli créées avec Cirq ) en tenseurs, cela permet de créer nos couches de neurones, et d'interfacer avec Tensorflow.\n",
    "\n",
    "TFQ utilise donc des éléments quantiques créés par Cirq et joue le rôle d'interface avec Tensorflow. Il reste alors une question, comment implémenter des Qubits dans un réseau de neurones classiques ? \n",
    "\n",
    "Pour cela je propose de suivre l'exemple du [tutoriel sur le site de TFQ](https://www.tensorflow.org/quantum/tutorials/mnist), le cas de la reconnaissance d'image en utilisant la base de données MNIST étant un cas classique pour la formation en machine learning.\n",
    "\n",
    "Pour créer un réseau de neurones utilisant les qubits, un QNN, il faut commencer par trouver comment nous allons les utiliser, ici les neurones du QNN vont être des portes logiques quantiques, et chaque pixel de l'image en entrée va être représentée par un qubit. Il faut donc adapter les couches de portes pour obtenir un résulat satisfaisant en sortie, pour faciliter la tache et réduire la charge de calculs, le simulateur intégré à Cirq étant limité en puissance, la taille du dataset, le nombre de label et la taille de chaque image est réduite, actuellement il semble peu probable que cet exemple puisse battre un réseau de neurones classique avec le dataset complet en considérant la précision en fonction du temps d'exécution.\n",
    "\n",
    "\n",
    "## 3. Conclusion\n",
    " \n",
    "Les réseaux de neurones sont actuellement en plein essor, et le principe utilisé qui consiste à se rapprocher suffisamment d'un minimum de la fonction d'erreur est pour nous, à même d'être grandement accéléré grâce aux processeurs quantiques, ainsi l'introduction de moyens permettant d'impliquer l'informatique quantique dans le développement de réseaux de neurones dès maintenant nous semble important.\n",
    "\n",
    "\n",
    "## 4. Bibliographie et Sources\n",
    "\n",
    "* [site officiel de Cirq](https://cirq.readthedocs.io/en/stable/)\n",
    "* [site officiel de Tensorflow, section TFQ](https://www.tensorflow.org/quantum/overview)\n",
    "* [tutoriel MNIST](https://www.tensorflow.org/quantum/tutorials/mnist)\n"
   ]
  },
  {
   "cell_type": "code",
   "execution_count": null,
   "metadata": {},
   "outputs": [],
   "source": []
  }
 ],
 "metadata": {
  "language_info": {
   "codemirror_mode": {
    "name": "ipython",
    "version": 3
   },
   "file_extension": ".py",
   "mimetype": "text/x-python",
   "name": "python",
   "nbconvert_exporter": "python",
   "pygments_lexer": "ipython3",
   "version": "3.7.7-final"
  },
  "orig_nbformat": 2,
  "kernelspec": {
   "name": "python37764bitqctensorflowconda19feed4e36604e65b47fdc43c385fd3d",
   "display_name": "Python 3.7.7 64-bit ('QC_Tensorflow': conda)"
  }
 },
 "nbformat": 4,
 "nbformat_minor": 2
}